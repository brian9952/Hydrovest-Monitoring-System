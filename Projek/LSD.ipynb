{
 "cells": [
  {
   "cell_type": "code",
   "execution_count": 19,
   "id": "f14e10a2",
   "metadata": {},
   "outputs": [],
   "source": [
    "import cv2\n",
    "import numpy as np\n",
    "\n",
    "def leaf_spot_disease(img):\n",
    "    pic= cv2.imread(img)\n",
    "    pic = cv2.resize(pic, dsize=(500, 400), interpolation=cv2.INTER_CUBIC)\n",
    "    gray=cv2.cvtColor(pic,cv2.COLOR_BGR2GRAY)\n",
    "    blur = cv2.GaussianBlur(gray,(5,5),5)\n",
    "    _,thres = cv2.threshold(blur, 100,250, cv2.THRESH_TOZERO)\n",
    "    res = cv2.Canny(thres, 100, 250, L2gradient=True)\n",
    "\n",
    "    try:\n",
    "        circles = cv2.HoughCircles(res,cv2.HOUGH_GRADIENT,1,20,param1=200,param2=15,minRadius=80,maxRadius=100)\n",
    "        circles = np.uint16(np.around(circles))\n",
    "        mask = np.full((res.shape[0], res.shape[1]), 1, dtype=np.uint8)  # mask is only \n",
    "        clone = pic.copy()\n",
    "        for i in circles[0, :]:\n",
    "            cv2.circle(mask, (i[0], i[1]), i[2], (255, 255, 255), -1)\n",
    "            cv2.circle(clone, (i[0], i[1]), i[2], (255, 255, 255), 1)\n",
    "\n",
    "        # get first masked value (foreground)\n",
    "        fg = cv2.bitwise_or(res, res, mask=mask)\n",
    "\n",
    "        # get second masked value (background) mask must be inverted\n",
    "        mask = cv2.bitwise_not(mask)\n",
    "        background = np.full(res.shape, 255, dtype=np.uint8)\n",
    "        bk = cv2.bitwise_or(background, background, mask=mask)\n",
    "\n",
    "        # combine foreground+background\n",
    "        final = cv2.bitwise_or(fg, bk)\n",
    "\n",
    "        circles2 = cv2.HoughCircles(final,cv2.HOUGH_GRADIENT,1,20,param1=10,param2=12,minRadius=0,maxRadius=15)\n",
    "        for j in circles2[0,:]:\n",
    "            cv2.circle(clone,(int(j[0]),int(j[1])),5,(255,255,255),2)\n",
    "\n",
    "        if (circles2.shape[1] > 3):\n",
    "            return('Leaf Spot Detected')\n",
    "        else:\n",
    "            return('Normal')\n",
    "\n",
    "    except:\n",
    "        return(\"Hole Not Found\")"
   ]
  },
  {
   "cell_type": "code",
   "execution_count": 23,
   "id": "f7003463",
   "metadata": {},
   "outputs": [
    {
     "name": "stdout",
     "output_type": "stream",
     "text": [
      "Hole Not Found\n"
     ]
    }
   ],
   "source": [
    "a = leaf_spot_disease('Assets/2021-10-20-19-39-27.jpg')\n",
    "print(a)"
   ]
  }
 ],
 "metadata": {
  "kernelspec": {
   "display_name": "Python 3 (ipykernel)",
   "language": "python",
   "name": "python3"
  },
  "language_info": {
   "codemirror_mode": {
    "name": "ipython",
    "version": 3
   },
   "file_extension": ".py",
   "mimetype": "text/x-python",
   "name": "python",
   "nbconvert_exporter": "python",
   "pygments_lexer": "ipython3",
   "version": "3.7.11"
  }
 },
 "nbformat": 4,
 "nbformat_minor": 5
}
